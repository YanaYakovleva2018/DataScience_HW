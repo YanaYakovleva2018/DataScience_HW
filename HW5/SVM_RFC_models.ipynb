{
 "cells": [
  {
   "cell_type": "markdown",
   "metadata": {},
   "source": [
    "### Task\n",
    "\n",
    "Based on accelerometer data from a mobile phone, it is necessary to classify the activity that a person is engaged in: walking, standing, running, or climbing stairs. Utilize SVM and Random Forest algorithms from the scikit-learn library. You can use accelerometer readings as features, but to enhance the algorithm's performance, we can first prepare our dataset and calculate time domain features."
   ]
  },
  {
   "cell_type": "code",
   "execution_count": 1,
   "metadata": {},
   "outputs": [],
   "source": [
    "import os\n",
    "import pandas as pd\n",
    "from sklearn.svm import SVC\n",
    "from sklearn.ensemble import RandomForestClassifier\n",
    "from sklearn.metrics import accuracy_score, classification_report\n",
    "from sklearn.model_selection import train_test_split\n",
    "import glob"
   ]
  },
  {
   "cell_type": "markdown",
   "metadata": {},
   "source": [
    "### 1. Define Data Loading Function"
   ]
  },
  {
   "cell_type": "code",
   "execution_count": 2,
   "metadata": {},
   "outputs": [],
   "source": [
    "# Function to load data from a directory of CSV files\n",
    "def load_data(root):\n",
    "    data = pd.DataFrame()\n",
    "    for activity in os.listdir(root):\n",
    "        activity_path = os.path.join(root, activity)\n",
    "        if not os.path.isdir(activity_path):\n",
    "            continue\n",
    "        for file_path in glob.glob(os.path.join(activity_path, '*.csv')):\n",
    "            df = pd.read_csv(file_path)\n",
    "            df['activity'] = activity\n",
    "            data = pd.concat([data, df], ignore_index=True)\n",
    "    return data"
   ]
  },
  {
   "cell_type": "markdown",
   "metadata": {},
   "source": [
    "### 2. Define Data Preprocessing Function"
   ]
  },
  {
   "cell_type": "code",
   "execution_count": 3,
   "metadata": {},
   "outputs": [],
   "source": [
    "# Function to preprocess data (e.g., feature engineering)\n",
    "def preprocess_data(data):\n",
    "    X = data.drop('activity', axis=1)\n",
    "    X['time_mean'] = X.mean(axis=1)\n",
    "    y = data['activity']\n",
    "    return X, y"
   ]
  },
  {
   "cell_type": "markdown",
   "metadata": {},
   "source": [
    "### 3. Define Model Training and Evaluation Function"
   ]
  },
  {
   "cell_type": "code",
   "execution_count": 4,
   "metadata": {},
   "outputs": [],
   "source": [
    "# Function to train and evaluate a model\n",
    "def train_and_evaluate_model(X_train, X_test, y_train, y_test, model):\n",
    "    model.fit(X_train, y_train)\n",
    "    y_pred = model.predict(X_test)\n",
    "    accuracy = accuracy_score(y_test, y_pred)\n",
    "    report = classification_report(y_test, y_pred)\n",
    "    return accuracy, report"
   ]
  },
  {
   "cell_type": "markdown",
   "metadata": {},
   "source": [
    "### 4. Load and Preprocess Data"
   ]
  },
  {
   "cell_type": "code",
   "execution_count": 5,
   "metadata": {},
   "outputs": [],
   "source": [
    "root = 'data'\n",
    "data = load_data(root)\n",
    "X, y = preprocess_data(data)"
   ]
  },
  {
   "cell_type": "markdown",
   "metadata": {},
   "source": [
    "### 5. Split Data into Training, Validation, and Test Sets"
   ]
  },
  {
   "cell_type": "code",
   "execution_count": 6,
   "metadata": {},
   "outputs": [],
   "source": [
    "X_train, X_temp, y_train, y_temp = train_test_split(X, y, test_size=0.3, random_state=42)\n",
    "X_validation, X_test, y_validation, y_test = train_test_split(X_temp, y_temp, test_size=0.5, random_state=42)\n"
   ]
  },
  {
   "cell_type": "markdown",
   "metadata": {},
   "source": [
    "### 6. Create and Train Machine Learning Models"
   ]
  },
  {
   "cell_type": "code",
   "execution_count": 7,
   "metadata": {},
   "outputs": [],
   "source": [
    "\n",
    "svm_model = SVC()\n",
    "rfc_model = RandomForestClassifier()\n"
   ]
  },
  {
   "cell_type": "markdown",
   "metadata": {},
   "source": [
    "### 7. Train and Evaluate Models"
   ]
  },
  {
   "cell_type": "code",
   "execution_count": 8,
   "metadata": {},
   "outputs": [],
   "source": [
    "svm_accuracy, svm_report = train_and_evaluate_model(X_train, X_validation, y_train, y_validation, svm_model)\n",
    "rfc_accuracy, rfc_report = train_and_evaluate_model(X_train, X_validation, y_train, y_validation, rfc_model)\n"
   ]
  },
  {
   "cell_type": "markdown",
   "metadata": {},
   "source": [
    "### 8.  Display Results"
   ]
  },
  {
   "cell_type": "code",
   "execution_count": 9,
   "metadata": {},
   "outputs": [
    {
     "name": "stdout",
     "output_type": "stream",
     "text": [
      "Accuracy (SVM): 0.896248151587056\n",
      "SVM Results:\n",
      "              precision    recall  f1-score   support\n",
      "\n",
      "        idle       0.95      0.99      0.97      4585\n",
      "     running       0.93      0.90      0.92     15421\n",
      "      stairs       1.00      0.00      0.00       686\n",
      "     walking       0.81      0.91      0.86      8387\n",
      "\n",
      "    accuracy                           0.90     29079\n",
      "   macro avg       0.92      0.70      0.69     29079\n",
      "weighted avg       0.90      0.90      0.89     29079\n",
      "\n"
     ]
    }
   ],
   "source": [
    "print(\"Accuracy (SVM):\", svm_accuracy)\n",
    "print(\"SVM Results:\")\n",
    "print(svm_report)"
   ]
  },
  {
   "cell_type": "code",
   "execution_count": 10,
   "metadata": {},
   "outputs": [
    {
     "name": "stdout",
     "output_type": "stream",
     "text": [
      "Accuracy (Random Forest): 0.9995529419856254\n",
      "Random Forest Results:\n",
      "              precision    recall  f1-score   support\n",
      "\n",
      "        idle       1.00      1.00      1.00      4585\n",
      "     running       1.00      1.00      1.00     15421\n",
      "      stairs       1.00      0.99      0.99       686\n",
      "     walking       1.00      1.00      1.00      8387\n",
      "\n",
      "    accuracy                           1.00     29079\n",
      "   macro avg       1.00      1.00      1.00     29079\n",
      "weighted avg       1.00      1.00      1.00     29079\n",
      "\n"
     ]
    }
   ],
   "source": [
    "print(\"Accuracy (Random Forest):\", rfc_accuracy)\n",
    "print(\"Random Forest Results:\")\n",
    "print(rfc_report)"
   ]
  }
 ],
 "metadata": {
  "kernelspec": {
   "display_name": "Python 3",
   "language": "python",
   "name": "python3"
  },
  "language_info": {
   "codemirror_mode": {
    "name": "ipython",
    "version": 3
   },
   "file_extension": ".py",
   "mimetype": "text/x-python",
   "name": "python",
   "nbconvert_exporter": "python",
   "pygments_lexer": "ipython3",
   "version": "3.11.0"
  },
  "orig_nbformat": 4
 },
 "nbformat": 4,
 "nbformat_minor": 2
}
