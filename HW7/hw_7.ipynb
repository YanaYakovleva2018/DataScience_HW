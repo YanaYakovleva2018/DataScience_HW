{
 "cells": [
  {
   "cell_type": "code",
   "execution_count": 7,
   "metadata": {},
   "outputs": [],
   "source": [
    "import matplotlib.pyplot as plt\n",
    "from surprise import SVD, Dataset, SVDpp, NMF\n",
    "from surprise.model_selection import cross_validate"
   ]
  },
  {
   "cell_type": "markdown",
   "metadata": {},
   "source": [
    "## Homework 7\n",
    "\n",
    "Take the MovieLens dataset and build a matrix factorization model. In  surprise, it is referred to as SVD. Find the best parameters using cross-validation, and also experiment with other calculation algorithms (SVD++, NMF). Choose the one that proves to be optimal."
   ]
  },
  {
   "cell_type": "markdown",
   "metadata": {},
   "source": [
    "1. Load the MovieLens 100K dataset"
   ]
  },
  {
   "cell_type": "code",
   "execution_count": 8,
   "metadata": {},
   "outputs": [],
   "source": [
    "data = Dataset.load_builtin('ml-100k')"
   ]
  },
  {
   "cell_type": "markdown",
   "metadata": {},
   "source": [
    "2. Define a function to evaluate a model using cross-validation"
   ]
  },
  {
   "cell_type": "code",
   "execution_count": 9,
   "metadata": {},
   "outputs": [],
   "source": [
    "def evaluate_model(model, data):\n",
    "    results = cross_validate(model, data, measures=['RMSE', 'MAE'], cv=5, verbose=True)\n",
    "    return results"
   ]
  },
  {
   "cell_type": "markdown",
   "metadata": {},
   "source": [
    "3. Create list of models to evaluate"
   ]
  },
  {
   "cell_type": "code",
   "execution_count": 10,
   "metadata": {},
   "outputs": [],
   "source": [
    "models = [SVD(), SVDpp(), NMF()]\n",
    "model_names = ['SVD', 'SVDpp', 'NMF']\n",
    "rmse_values = [] ## To store mean RMSE values for each algorithm"
   ]
  },
  {
   "cell_type": "markdown",
   "metadata": {},
   "source": [
    "4. Create loop through the models and evaluate them"
   ]
  },
  {
   "cell_type": "code",
   "execution_count": 11,
   "metadata": {},
   "outputs": [
    {
     "name": "stdout",
     "output_type": "stream",
     "text": [
      "Evaluating RMSE, MAE of algorithm SVD on 5 split(s).\n",
      "\n",
      "                  Fold 1  Fold 2  Fold 3  Fold 4  Fold 5  Mean    Std     \n",
      "RMSE (testset)    0.9375  0.9298  0.9437  0.9375  0.9341  0.9365  0.0046  \n",
      "MAE (testset)     0.7392  0.7315  0.7419  0.7395  0.7375  0.7379  0.0035  \n",
      "Fit time          0.38    0.37    0.38    0.44    0.45    0.40    0.03    \n",
      "Test time         0.04    0.07    0.04    0.07    0.04    0.05    0.02    \n",
      "\n",
      "Mean RMSE: 0.936519716923088\n",
      "Mean MAE: 0.7379431967667329\n",
      "\n",
      "\n",
      "Evaluating RMSE, MAE of algorithm SVDpp on 5 split(s).\n",
      "\n",
      "                  Fold 1  Fold 2  Fold 3  Fold 4  Fold 5  Mean    Std     \n",
      "RMSE (testset)    0.9238  0.9145  0.9233  0.9274  0.9050  0.9188  0.0081  \n",
      "MAE (testset)     0.7246  0.7171  0.7251  0.7267  0.7097  0.7206  0.0064  \n",
      "Fit time          6.28    6.25    6.28    6.28    6.34    6.28    0.03    \n",
      "Test time         1.20    1.24    1.28    1.25    1.22    1.24    0.03    \n",
      "\n",
      "Mean RMSE: 0.9187970407018129\n",
      "Mean MAE: 0.7206324003868056\n",
      "\n",
      "\n",
      "Evaluating RMSE, MAE of algorithm NMF on 5 split(s).\n",
      "\n",
      "                  Fold 1  Fold 2  Fold 3  Fold 4  Fold 5  Mean    Std     \n",
      "RMSE (testset)    0.9608  0.9688  0.9676  0.9653  0.9598  0.9645  0.0036  \n",
      "MAE (testset)     0.7552  0.7616  0.7613  0.7589  0.7549  0.7584  0.0029  \n",
      "Fit time          0.46    0.47    0.51    0.46    0.47    0.47    0.02    \n",
      "Test time         0.07    0.03    0.07    0.03    0.07    0.06    0.02    \n",
      "\n",
      "Mean RMSE: 0.964455734799005\n",
      "Mean MAE: 0.7583881067792498\n",
      "\n",
      "\n"
     ]
    }
   ],
   "source": [
    "for model in models:\n",
    "    results = evaluate_model(model, data)\n",
    "\n",
    "    # Calculate and store the mean RMSE for the current model\n",
    "    mean_rmse = sum(results['test_rmse']) / 5\n",
    "    rmse_values.append(mean_rmse)\n",
    "\n",
    "    # Print mean RMSE and MAE for the current model\n",
    "    print(\"\\nMean RMSE:\", sum(results['test_rmse']) / 5)\n",
    "    print(\"Mean MAE:\", sum(results['test_mae']) / 5)\n",
    "    print(\"\\n\")"
   ]
  },
  {
   "cell_type": "markdown",
   "metadata": {},
   "source": [
    "5. Create a bar plot to compare RMSE values across different algorithms"
   ]
  },
  {
   "cell_type": "code",
   "execution_count": 12,
   "metadata": {},
   "outputs": [
    {
     "data": {
      "image/png": "[encoded data removed]",
      "text/plain": [
       "<Figure size 640x480 with 1 Axes>"
      ]
     },
     "metadata": {},
     "output_type": "display_data"
    }
   ],
   "source": [
    "plt.bar(model_names, rmse_values)\n",
    "plt.xlabel('Algorithms')\n",
    "plt.ylabel('Mean RMSE')\n",
    "plt.title('RMSE Comparison of Different Algorithms')\n",
    "plt.ylim(min(rmse_values) - 0.1, max(rmse_values) + 0.1)\n",
    "plt.show()"
   ]
  }
 ],
 "metadata": {
  "kernelspec": {
   "display_name": "Python 3",
   "language": "python",
   "name": "python3"
  },
  "language_info": {
   "codemirror_mode": {
    "name": "ipython",
    "version": 3
   },
   "file_extension": ".py",
   "mimetype": "text/x-python",
   "name": "python",
   "nbconvert_exporter": "python",
   "pygments_lexer": "ipython3",
   "version": "3.11.0"
  },
  "orig_nbformat": 4
 },
 "nbformat": 4,
 "nbformat_minor": 2
}
